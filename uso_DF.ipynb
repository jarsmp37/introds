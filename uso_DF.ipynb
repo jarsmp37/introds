{
 "cells": [
  {
   "cell_type": "markdown",
   "metadata": {},
   "source": [
    "# Introducción a Pandas\n",
    "\n",
    "## ¿Qué es Pandas?\n",
    "\n",
    "Pandas es una biblioteca de Python utilizada para la manipulación y análisis de datos. Ofrece estructuras de datos y herramientas de alto rendimiento diseñadas para hacer que el trabajo con datos estructurados (tablas, series temporales, etc.) sea fácil y eficiente. Pandas es especialmente útil para trabajar con datos tabulares, como los que se encuentran en hojas de cálculo o bases de datos.\n",
    "\n",
    "### Características principales de Pandas:\n",
    "\n",
    "- **Series y DataFrames:** Estructuras de datos fundamentales que permiten almacenar y manipular datos de forma eficiente.\n",
    "- **Indexación poderosa:** Métodos de selección y filtrado avanzados.\n",
    "- **Operaciones de limpieza y transformación de datos:** Facilita la manipulación de datos faltantes, duplicados, y más.\n",
    "- **Soporte para múltiples formatos de datos:** Incluye funcionalidades para leer y escribir archivos CSV, Excel, bases de datos SQL, y más.\n",
    "\n",
    "## Instalación de Pandas\n",
    "\n",
    "Para comenzar a usar Pandas, primero necesitas instalarlo en tu sistema. A continuación, te mostramos cómo hacerlo en diferentes sistemas operativos:\n",
    "\n",
    "## Instalación \n",
    "\n",
    "Para instalar Pandas en Windows, MacOS o Linux puedes usar el administrador de paquetes `pip` en tu terminal o símbolo del sistema:\n",
    "\n",
    "```bash\n",
    "pip install pandas\n"
   ]
  },
  {
   "cell_type": "markdown",
   "metadata": {},
   "source": [
    "## Creación de un DataFrame a partir de un Diccionario\n",
    "\n",
    "En Pandas, un DataFrame es una estructura de datos bidimensional, similar a una tabla en una base de datos o una hoja de cálculo de Excel. Uno de los métodos más comunes para crear un DataFrame es utilizando un diccionario, donde las claves corresponden a los nombres de las columnas y los valores son listas que representan los datos de cada columna.\n",
    "\n",
    "### Ejemplo: Creación de un DataFrame\n",
    "\n",
    "A continuación, te muestro cómo crear un DataFrame a partir de un diccionario:\n",
    "\n",
    "\n"
   ]
  },
  {
   "cell_type": "code",
   "execution_count": 1,
   "metadata": {},
   "outputs": [
    {
     "data": {
      "text/html": [
       "<div>\n",
       "<style scoped>\n",
       "    .dataframe tbody tr th:only-of-type {\n",
       "        vertical-align: middle;\n",
       "    }\n",
       "\n",
       "    .dataframe tbody tr th {\n",
       "        vertical-align: top;\n",
       "    }\n",
       "\n",
       "    .dataframe thead th {\n",
       "        text-align: right;\n",
       "    }\n",
       "</style>\n",
       "<table border=\"1\" class=\"dataframe\">\n",
       "  <thead>\n",
       "    <tr style=\"text-align: right;\">\n",
       "      <th></th>\n",
       "      <th>Nombre</th>\n",
       "      <th>Edad</th>\n",
       "      <th>Ciudad</th>\n",
       "    </tr>\n",
       "  </thead>\n",
       "  <tbody>\n",
       "    <tr>\n",
       "      <th>0</th>\n",
       "      <td>Ana</td>\n",
       "      <td>23</td>\n",
       "      <td>Madrid</td>\n",
       "    </tr>\n",
       "    <tr>\n",
       "      <th>1</th>\n",
       "      <td>Carlos</td>\n",
       "      <td>30</td>\n",
       "      <td>Barcelona</td>\n",
       "    </tr>\n",
       "    <tr>\n",
       "      <th>2</th>\n",
       "      <td>Laura</td>\n",
       "      <td>22</td>\n",
       "      <td>Sevilla</td>\n",
       "    </tr>\n",
       "    <tr>\n",
       "      <th>3</th>\n",
       "      <td>Miguel</td>\n",
       "      <td>35</td>\n",
       "      <td>Bilbao</td>\n",
       "    </tr>\n",
       "  </tbody>\n",
       "</table>\n",
       "</div>"
      ],
      "text/plain": [
       "   Nombre  Edad     Ciudad\n",
       "0     Ana    23     Madrid\n",
       "1  Carlos    30  Barcelona\n",
       "2   Laura    22    Sevilla\n",
       "3  Miguel    35     Bilbao"
      ]
     },
     "execution_count": 1,
     "metadata": {},
     "output_type": "execute_result"
    }
   ],
   "source": [
    "import pandas as pd\n",
    "\n",
    "# Crear un diccionario con datos\n",
    "datos = {\n",
    "    'Nombre': ['Ana', 'Carlos', 'Laura', 'Miguel'],\n",
    "    'Edad': [23, 30, 22, 35],\n",
    "    'Ciudad': ['Madrid', 'Barcelona', 'Sevilla', 'Bilbao']\n",
    "}\n",
    "\n",
    "# Crear un DataFrame a partir del diccionario\n",
    "df = pd.DataFrame(datos)\n",
    "\n",
    "# Mostrar el DataFrame\n",
    "df\n"
   ]
  },
  {
   "cell_type": "markdown",
   "metadata": {},
   "source": [
    "# Cargar base de datos csv\n",
    "\n",
    "Cargando a python bases de datos de archivos csv(Comma-Separated Values) es un formato de archivo simple y ampliamente utilizado para almacenar datos tabulares. En un archivo CSV, cada línea representa un registro, y los valores de cada columna dentro del registro están separados por comas.\n",
    "\n",
    "# Primer método uso de github"
   ]
  },
  {
   "cell_type": "code",
   "execution_count": null,
   "metadata": {},
   "outputs": [],
   "source": []
  }
 ],
 "metadata": {
  "kernelspec": {
   "display_name": "Python 3",
   "language": "python",
   "name": "python3"
  },
  "language_info": {
   "codemirror_mode": {
    "name": "ipython",
    "version": 3
   },
   "file_extension": ".py",
   "mimetype": "text/x-python",
   "name": "python",
   "nbconvert_exporter": "python",
   "pygments_lexer": "ipython3",
   "version": "3.12.2"
  }
 },
 "nbformat": 4,
 "nbformat_minor": 2
}
